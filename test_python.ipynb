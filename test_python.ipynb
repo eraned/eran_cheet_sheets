{
 "metadata": {
  "language_info": {
   "codemirror_mode": {
    "name": "ipython",
    "version": 3
   },
   "file_extension": ".py",
   "mimetype": "text/x-python",
   "name": "python",
   "nbconvert_exporter": "python",
   "pygments_lexer": "ipython3",
   "version": "3.8.6-final"
  },
  "orig_nbformat": 2,
  "kernelspec": {
   "name": "python3",
   "display_name": "Python 3.8.6 64-bit",
   "metadata": {
    "interpreter": {
     "hash": "aee8b7b246df8f9039afb4144a1f6fd8d2ca17a180786b69acc140d282b71a49"
    }
   }
  }
 },
 "nbformat": 4,
 "nbformat_minor": 2,
 "cells": [
  {
   "cell_type": "code",
   "execution_count": 1,
   "metadata": {},
   "outputs": [
    {
     "output_type": "stream",
     "name": "stdout",
     "text": [
      "eran\n"
     ]
    }
   ],
   "source": [
    "import requests\n",
    "import ndjson\n",
    "import json\n",
    "import datetime\n",
    "from datetime import date\n",
    "# import pandas_gbq as pg\n",
    "import pandas as pd\n",
    "import numpy as np\n",
    "import time\n",
    "# import mysql.connector\n",
    "from pandas import json_normalize\n",
    "# from sqlalchemy import create_engine\n",
    "import csv\n",
    "\n",
    "\n",
    "\n",
    "if __name__ == '__main__':  \n",
    "  print(\"eran\")"
   ]
  },
  {
   "cell_type": "code",
   "execution_count": null,
   "metadata": {},
   "outputs": [],
   "source": []
  }
 ]
}