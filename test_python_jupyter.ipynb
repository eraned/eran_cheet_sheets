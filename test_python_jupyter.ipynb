{
 "metadata": {
  "language_info": {
   "codemirror_mode": {
    "name": "ipython",
    "version": 3
   },
   "file_extension": ".py",
   "mimetype": "text/x-python",
   "name": "python",
   "nbconvert_exporter": "python",
   "pygments_lexer": "ipython3",
   "version": "3.8.6-final"
  },
  "orig_nbformat": 2,
  "kernelspec": {
   "name": "python3",
   "display_name": "Python 3.8.6 64-bit",
   "metadata": {
    "interpreter": {
     "hash": "aee8b7b246df8f9039afb4144a1f6fd8d2ca17a180786b69acc140d282b71a49"
    }
   }
  }
 },
 "nbformat": 4,
 "nbformat_minor": 2,
 "cells": [
  {
   "cell_type": "code",
   "execution_count": 47,
   "metadata": {
    "tags": []
   },
   "outputs": [
    {
     "output_type": "error",
     "ename": "AttributeError",
     "evalue": "'str' object has no attribute 'get'",
     "traceback": [
      "\u001b[0;31m---------------------------------------------------------------------------\u001b[0m",
      "\u001b[0;31mAttributeError\u001b[0m                            Traceback (most recent call last)",
      "\u001b[0;32m<ipython-input-47-8c6e6a583561>\u001b[0m in \u001b[0;36m<module>\u001b[0;34m\u001b[0m\n\u001b[1;32m    125\u001b[0m \u001b[0;32mif\u001b[0m \u001b[0m__name__\u001b[0m \u001b[0;34m==\u001b[0m \u001b[0;34m'__main__'\u001b[0m\u001b[0;34m:\u001b[0m\u001b[0;34m\u001b[0m\u001b[0;34m\u001b[0m\u001b[0m\n\u001b[1;32m    126\u001b[0m   \u001b[0;31m# print(\"edri\")\u001b[0m\u001b[0;34m\u001b[0m\u001b[0;34m\u001b[0m\u001b[0;34m\u001b[0m\u001b[0m\n\u001b[0;32m--> 127\u001b[0;31m   \u001b[0metl\u001b[0m\u001b[0;34m(\u001b[0m\u001b[0;34m)\u001b[0m\u001b[0;34m\u001b[0m\u001b[0;34m\u001b[0m\u001b[0m\n\u001b[0m\u001b[1;32m    128\u001b[0m   \u001b[0;31m# schedule.every(10).minutes.do(some_job)\u001b[0m\u001b[0;34m\u001b[0m\u001b[0;34m\u001b[0m\u001b[0;34m\u001b[0m\u001b[0m\n\u001b[1;32m    129\u001b[0m   \u001b[0;31m# while True:\u001b[0m\u001b[0;34m\u001b[0m\u001b[0;34m\u001b[0m\u001b[0;34m\u001b[0m\u001b[0m\n",
      "\u001b[0;32m<ipython-input-47-8c6e6a583561>\u001b[0m in \u001b[0;36metl\u001b[0;34m()\u001b[0m\n\u001b[1;32m     74\u001b[0m                     \u001b[0mlist_of_dic\u001b[0m \u001b[0;34m=\u001b[0m \u001b[0mjson\u001b[0m\u001b[0;34m.\u001b[0m\u001b[0mloads\u001b[0m\u001b[0;34m(\u001b[0m\u001b[0mini_string\u001b[0m\u001b[0;34m)\u001b[0m\u001b[0;34m\u001b[0m\u001b[0;34m\u001b[0m\u001b[0m\n\u001b[1;32m     75\u001b[0m                     \u001b[0;32mfor\u001b[0m \u001b[0mdic\u001b[0m \u001b[0;32min\u001b[0m \u001b[0mlist_of_dic\u001b[0m\u001b[0;34m:\u001b[0m\u001b[0;34m\u001b[0m\u001b[0;34m\u001b[0m\u001b[0m\n\u001b[0;32m---> 76\u001b[0;31m                         \u001b[0;32mif\u001b[0m \u001b[0mdic\u001b[0m\u001b[0;34m.\u001b[0m\u001b[0mget\u001b[0m\u001b[0;34m(\u001b[0m\u001b[0;34m'keyword'\u001b[0m\u001b[0;34m)\u001b[0m \u001b[0;32min\u001b[0m \u001b[0mhistorical_data\u001b[0m\u001b[0;34m.\u001b[0m\u001b[0mkeys\u001b[0m\u001b[0;34m(\u001b[0m\u001b[0;34m)\u001b[0m\u001b[0;34m:\u001b[0m\u001b[0;34m\u001b[0m\u001b[0;34m\u001b[0m\u001b[0m\n\u001b[0m\u001b[1;32m     77\u001b[0m                             \u001b[0mold_user_dic\u001b[0m \u001b[0;34m=\u001b[0m \u001b[0mhistorical_data\u001b[0m\u001b[0;34m.\u001b[0m\u001b[0mget\u001b[0m\u001b[0;34m(\u001b[0m\u001b[0mdic\u001b[0m\u001b[0;34m.\u001b[0m\u001b[0mget\u001b[0m\u001b[0;34m(\u001b[0m\u001b[0;34m'keyword'\u001b[0m\u001b[0;34m)\u001b[0m\u001b[0;34m)\u001b[0m\u001b[0;34m\u001b[0m\u001b[0;34m\u001b[0m\u001b[0m\n\u001b[1;32m     78\u001b[0m                             \u001b[0mavg__searches_old\u001b[0m \u001b[0;34m=\u001b[0m \u001b[0mold_user_dic\u001b[0m\u001b[0;34m.\u001b[0m\u001b[0mget\u001b[0m\u001b[0;34m(\u001b[0m\u001b[0;34m'avg_searches_monthly_volume'\u001b[0m\u001b[0;34m)\u001b[0m\u001b[0;34m\u001b[0m\u001b[0;34m\u001b[0m\u001b[0m\n",
      "\u001b[0;31mAttributeError\u001b[0m: 'str' object has no attribute 'get'"
     ]
    }
   ],
   "source": [
    "import json\n",
    "import datetime\n",
    "import pandas as pd\n",
    "import numpy as np\n",
    "import time\n",
    "from pandas import json_normalize\n",
    "import csv\n",
    "import re\n",
    "import os\n",
    "import schedule\n",
    "\n",
    "\n",
    "\n",
    "def etl():\n",
    "        global historical_data\n",
    "        dirin = r\"/Users/eranedri/Documents/raw_data\"\n",
    "        dirout = r\"/Users/eranedri/Documents/data_out\"\n",
    "        count = 1\n",
    "        for file in os.listdir(dirin):\n",
    "                with open(os.path.join(dirin, file),'r', encoding='utf8') as f:\n",
    "                    json_string = str(f.read())\n",
    "                    ini_string = json.dumps(json_string)\n",
    "                    list_of_dic = json.loads(ini_string)\n",
    "                    for dic in list_of_dic:\n",
    "                        if dic.get('keyword') in historical_data.keys():\n",
    "                            old_dic = historical_data.get(dic.get('keyword'))\n",
    "                            avg__searches_old = old_dic.get('avg_searches_monthly_volume')\n",
    "                            avg_cpc_old = old_dic.get('avg_cpc')\n",
    "                            date_old = old_dic.get('dt')\n",
    "                            searches_new = dic.get('monthly_volume')\n",
    "                            cpc_new = dic.get('cpc')\n",
    "                            date_new = dic.get('dt')\n",
    "                            up_searches = (avg__searches_old * searches_new)\n",
    "                            down_searches = avg__searches_old + searches_new\n",
    "                            update_avg_searches = up_searches / down_searches\n",
    "                            up_cpc = (avg__cpc_old * cpc_new)\n",
    "                            down_cpc = avg__cpc_old + cpc_new\n",
    "                            update_avg_cpc= up_cpc/ down_cpc\n",
    "                            old_dic['avg_searches_monthly_volume'] = update_avg_searches\n",
    "                            old_dic['avg_cpc'] = update_avg_cpc\n",
    "                            historical_data[dic.get('keyword')] = old_dic\n",
    "                        else :\n",
    "                              data_new = {}\n",
    "                              data_new['keyword'] = dic.get['keyword']\n",
    "                              data_new['avg_searches_monthly_volume'] = dic.get['monthly_volume']\n",
    "                              data_new['avg_cpc'] = dic.get['cpc']\n",
    "                              data_new['dt'] = dic.get['dt']\n",
    "                              historical_data[date_new['keyword']] = data_new\n",
    "\n",
    "                with open(os.path.join(dirout, file), 'w', encoding='utf8') as f:\n",
    "                    keys = historical_data.keys()\n",
    "                    dict_writer = csv.DictWriter(f, keys)\n",
    "                    dict_writer.writeheader()\n",
    "                    dict_writer.writerows(historical_data)\n",
    "\n",
    "def some_job():\n",
    "    etl()\n",
    "  print(\"etl is running...\")\n",
    "\n",
    "if __name__ == '__main__':  \n",
    "  schedule.every(10).minutes.do(some_job)\n",
    "  while True:\n",
    "    schedule.run_pending()\n",
    "    time.sleep(10)\n",
    "\n",
    "\n"
   ]
  },
  {
   "cell_type": "code",
   "execution_count": null,
   "metadata": {},
   "outputs": [],
   "source": []
  }
 ]
}