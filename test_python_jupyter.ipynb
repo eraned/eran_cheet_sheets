{
 "metadata": {
  "language_info": {
   "codemirror_mode": {
    "name": "ipython",
    "version": 3
   },
   "file_extension": ".py",
   "mimetype": "text/x-python",
   "name": "python",
   "nbconvert_exporter": "python",
   "pygments_lexer": "ipython3",
   "version": "3.8.6-final"
  },
  "orig_nbformat": 2,
  "kernelspec": {
   "name": "python3",
   "display_name": "Python 3.8.6 64-bit",
   "metadata": {
    "interpreter": {
     "hash": "aee8b7b246df8f9039afb4144a1f6fd8d2ca17a180786b69acc140d282b71a49"
    }
   }
  }
 },
 "nbformat": 4,
 "nbformat_minor": 2,
 "cells": [
  {
   "cell_type": "code",
   "execution_count": 1,
   "metadata": {
    "tags": []
   },
   "outputs": [
    {
     "output_type": "stream",
     "name": "stdout",
     "text": [
      "test schedule module...\n"
     ]
    },
    {
     "output_type": "error",
     "ename": "KeyboardInterrupt",
     "evalue": "",
     "traceback": [
      "\u001b[0;31m---------------------------------------------------------------------------\u001b[0m",
      "\u001b[0;31mKeyboardInterrupt\u001b[0m                         Traceback (most recent call last)",
      "\u001b[0;32m<ipython-input-1-5d3798b69574>\u001b[0m in \u001b[0;36m<module>\u001b[0;34m\u001b[0m\n\u001b[1;32m     80\u001b[0m   \u001b[0;32mwhile\u001b[0m \u001b[0;32mTrue\u001b[0m\u001b[0;34m:\u001b[0m\u001b[0;34m\u001b[0m\u001b[0;34m\u001b[0m\u001b[0m\n\u001b[1;32m     81\u001b[0m     \u001b[0mschedule\u001b[0m\u001b[0;34m.\u001b[0m\u001b[0mrun_pending\u001b[0m\u001b[0;34m(\u001b[0m\u001b[0;34m)\u001b[0m\u001b[0;34m\u001b[0m\u001b[0;34m\u001b[0m\u001b[0m\n\u001b[0;32m---> 82\u001b[0;31m     \u001b[0mtime\u001b[0m\u001b[0;34m.\u001b[0m\u001b[0msleep\u001b[0m\u001b[0;34m(\u001b[0m\u001b[0;36m1\u001b[0m\u001b[0;34m)\u001b[0m\u001b[0;34m\u001b[0m\u001b[0;34m\u001b[0m\u001b[0m\n\u001b[0m\u001b[1;32m     83\u001b[0m \u001b[0;34m\u001b[0m\u001b[0m\n\u001b[1;32m     84\u001b[0m \u001b[0;34m\u001b[0m\u001b[0m\n",
      "\u001b[0;31mKeyboardInterrupt\u001b[0m: "
     ]
    }
   ],
   "source": [
    "import requests\n",
    "import ndjson\n",
    "import json\n",
    "import datetime\n",
    "import pandas as pd\n",
    "import numpy as np\n",
    "import time\n",
    "from pandas import json_normalize\n",
    "import csv\n",
    "import re\n",
    "import os\n",
    "import elasticsearch\n",
    "import petl\n",
    "import schedule\n",
    "\n",
    "\n",
    "def json_reader(file_path):\n",
    "    start_pos = 0\n",
    "    with open(file_path, 'r') as f:\n",
    "        while True:\n",
    "            try:\n",
    "                data = json.load(f)\n",
    "                yield data\n",
    "                return\n",
    "            except ValueError as e:\n",
    "                f.seek(start_pos)\n",
    "                end_pos = int(re.match('Extra data: line \\d+ column \\d+ .*\\(char (\\d+).*\\)',\n",
    "                                    e.args[0]).groups()[0])\n",
    "                json_str = f.read(end_pos)\n",
    "                data = json.loads(json_str)\n",
    "                start_pos += end_pos\n",
    "                yield data\n",
    "\n",
    "\n",
    "def csv_reader(file_path):\n",
    "  data = pd.read_csv(\"filename.csv\") \n",
    "  data.head()\n",
    "\n",
    "\n",
    "def etl():\n",
    "        dirin = r\"/Users/eranedri/Desktop/eran_cheet_sheets/eran_cheet_sheets/jsons/input\"\n",
    "        dirout = r\"/Users/eranedri/Desktop/eran_cheet_sheets/eran_cheet_sheets/jsons/output\"\n",
    "        \n",
    "        count = 1\n",
    "        for file in os.listdir(dirin):\n",
    "            if file.endswith(\".json\"):\n",
    "                with open(os.path.join(dirin, file),'r', encoding='utf8') as f:\n",
    "                    data = json.load(f)\n",
    "                    data_new = {}\n",
    "                    data_new['id'] = str(count)\n",
    "                    data_new['published'] = data['published']\n",
    "                    data_new['text'] = data['text']\n",
    "                    data_new['title'] = data['title']\n",
    "                    data_new['author'] = data['author']\n",
    "                with open(os.path.join(dirout, file), 'w', encoding='utf8') as f:\n",
    "                    json.dump(data_new, f)\n",
    "                    print(\"Document number %d extracted successfully\" % count)\n",
    "                    count = count+1\n",
    "\n",
    "\n",
    "def some_job():\n",
    "  print(\"test schedule module...\")\n",
    "\n",
    "\n",
    "def get_api_data():\n",
    "\n",
    "  url = \"https://data.gov.il/api/action/datastore_search?resource_id=5e87a7a1-2f6f-41c1-8aec-7216d52a6cf6\"\n",
    "  JSONContent = requests.get(url).json()\n",
    "  content = json.dumps(JSONContent, indent = 4, sort_keys=True)\n",
    "  print(content)\n",
    "  D = JSONContent['result']['records']\n",
    "  ds = pd.DataFrame(D)\n",
    "  ds.head(100)\n",
    "\n",
    "if __name__ == '__main__':  \n",
    "  # print(\"edri\")\n",
    "\n",
    "  # schedule.every(1).minutes.do(some_job)\n",
    "  # while True:\n",
    "  #   schedule.run_pending()\n",
    "  #   time.sleep(1)\n",
    "\n",
    "\n"
   ]
  },
  {
   "cell_type": "code",
   "execution_count": null,
   "metadata": {},
   "outputs": [],
   "source": []
  }
 ]
}