{
 "metadata": {
  "language_info": {
   "codemirror_mode": {
    "name": "ipython",
    "version": 3
   },
   "file_extension": ".py",
   "mimetype": "text/x-python",
   "name": "python",
   "nbconvert_exporter": "python",
   "pygments_lexer": "ipython3",
   "version": "3.8.6-final"
  },
  "orig_nbformat": 2,
  "kernelspec": {
   "name": "python3",
   "display_name": "Python 3.8.6 64-bit",
   "metadata": {
    "interpreter": {
     "hash": "aee8b7b246df8f9039afb4144a1f6fd8d2ca17a180786b69acc140d282b71a49"
    }
   }
  }
 },
 "nbformat": 4,
 "nbformat_minor": 2,
 "cells": [
  {
   "cell_type": "code",
   "execution_count": 4,
   "metadata": {
    "tags": []
   },
   "outputs": [
    {
     "output_type": "stream",
     "name": "stdout",
     "text": [
      "Document number 1 extracted successfully\n"
     ]
    }
   ],
   "source": [
    "import requests\n",
    "import ndjson\n",
    "import json\n",
    "import datetime\n",
    "from datetime import date\n",
    "import pandas as pd\n",
    "import numpy as np\n",
    "import time\n",
    "from pandas import json_normalize\n",
    "import csv\n",
    "import re\n",
    "import os\n",
    "\n",
    "def json_reader(file_path):\n",
    "    start_pos = 0\n",
    "    with open(file_path, 'r') as f:\n",
    "        while True:\n",
    "            try:\n",
    "                data = json.load(f)\n",
    "                yield data\n",
    "                return\n",
    "            except ValueError as e:\n",
    "                f.seek(start_pos)\n",
    "                end_pos = int(re.match('Extra data: line \\d+ column \\d+ .*\\(char (\\d+).*\\)',\n",
    "                                    e.args[0]).groups()[0])\n",
    "                json_str = f.read(end_pos)\n",
    "                data = json.loads(json_str)\n",
    "                start_pos += end_pos\n",
    "                yield data\n",
    "\n",
    "\n",
    "def csv_reader(file_path):\n",
    "  data = pd.read_csv(\"filename.csv\") \n",
    "  data.head()\n",
    "\n",
    "\n",
    "def etl():\n",
    "        dirin = r\"/Users/eranedri/Desktop/eran_cheet_sheets/eran_cheet_sheets/jsons/input\"\n",
    "        dirout = r\"/Users/eranedri/Desktop/eran_cheet_sheets/eran_cheet_sheets/jsons/output\"\n",
    "        \n",
    "        count = 1\n",
    "        for file in os.listdir(dirin):\n",
    "            if file.endswith(\".json\"):\n",
    "                with open(os.path.join(dirin, file),'r', encoding='utf8') as f:\n",
    "                    data = json.load(f)\n",
    "                    data_new = {}\n",
    "                    data_new['id'] = str(count)\n",
    "                    data_new['published'] = data['published']\n",
    "                    data_new['text'] = data['text']\n",
    "                    data_new['title'] = data['title']\n",
    "                    data_new['author'] = data['author']\n",
    "                with open(os.path.join(dirout, file), 'w', encoding='utf8') as f:\n",
    "                    json.dump(data_new, f)\n",
    "                    print(\"Document number %d extracted successfully\" % count)\n",
    "                    count = count+1\n",
    "\n",
    "\n",
    "\n",
    "\n",
    "if __name__ == '__main__':  \n",
    "  # print(\"edri\")\n",
    "  etl()\n",
    "\n",
    "  # url = \"https://data.gov.il/api/action/datastore_search?resource_id=5e87a7a1-2f6f-41c1-8aec-7216d52a6cf6\"\n",
    "  # JSONContent = requests.get(url).json()\n",
    "  # content = json.dumps(JSONContent, indent = 4, sort_keys=True)\n",
    "  # print(content)\n",
    "  # D = JSONContent['result']['records']\n",
    "  # ds = pd.DataFrame(D)\n",
    "  # ds.head(100)\n",
    "\n",
    "  \n"
   ]
  },
  {
   "cell_type": "code",
   "execution_count": null,
   "metadata": {},
   "outputs": [],
   "source": []
  }
 ]
}